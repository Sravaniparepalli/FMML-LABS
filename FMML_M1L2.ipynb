{
  "cells": [
    {
      "cell_type": "markdown",
      "metadata": {
        "id": "view-in-github",
        "colab_type": "text"
      },
      "source": [
        "<a href=\"https://colab.research.google.com/github/Sravaniparepalli/FMML-LABS/blob/main/FMML_M1L2.ipynb\" target=\"_parent\"><img src=\"https://colab.research.google.com/assets/colab-badge.svg\" alt=\"Open In Colab\"/></a>"
      ]
    },
    {
      "cell_type": "markdown",
      "metadata": {
        "id": "3Eu9VZbF01eq"
      },
      "source": [
        "# Machine Learning terms and metrics\n",
        "\n",
        "FMML Module 1, Lab 2\n",
        "\n",
        "In this lab, we will show a part of the ML pipeline by using the California Housing dataset. There are 20640 samples, each with 8 attributes like income of the block, age of the houses per district etc. The task is to predict the cost of the houses per district. We will use the scikit-learn library to load the data and perform some basic data preprocessing and model training. We will also show how to evaluate the model using some common metrics, split the data into training and testing sets, and use cross-validation to get a better estimate of the model's performance."
      ]
    },
    {
      "cell_type": "code",
      "execution_count": 16,
      "metadata": {
        "id": "8qBvyEem0vLi"
      },
      "outputs": [],
      "source": [
        "import numpy as np\n",
        "from sklearn import datasets\n",
        "import matplotlib.pyplot as plt\n",
        "\n",
        "rng = np.random.default_rng(seed=42)"
      ]
    },
    {
      "cell_type": "code",
      "execution_count": 17,
      "metadata": {
        "colab": {
          "base_uri": "https://localhost:8080/"
        },
        "id": "8LpqjN991GGJ",
        "outputId": "bffbd4af-5cea-4a51-ff8b-d0e2aba8adcb"
      },
      "outputs": [
        {
          "output_type": "stream",
          "name": "stdout",
          "text": [
            ".. _california_housing_dataset:\n",
            "\n",
            "California Housing dataset\n",
            "--------------------------\n",
            "\n",
            "**Data Set Characteristics:**\n",
            "\n",
            ":Number of Instances: 20640\n",
            "\n",
            ":Number of Attributes: 8 numeric, predictive attributes and the target\n",
            "\n",
            ":Attribute Information:\n",
            "    - MedInc        median income in block group\n",
            "    - HouseAge      median house age in block group\n",
            "    - AveRooms      average number of rooms per household\n",
            "    - AveBedrms     average number of bedrooms per household\n",
            "    - Population    block group population\n",
            "    - AveOccup      average number of household members\n",
            "    - Latitude      block group latitude\n",
            "    - Longitude     block group longitude\n",
            "\n",
            ":Missing Attribute Values: None\n",
            "\n",
            "This dataset was obtained from the StatLib repository.\n",
            "https://www.dcc.fc.up.pt/~ltorgo/Regression/cal_housing.html\n",
            "\n",
            "The target variable is the median house value for California districts,\n",
            "expressed in hundreds of thousands of dollars ($100,000).\n",
            "\n",
            "This dataset was derived from the 1990 U.S. census, using one row per census\n",
            "block group. A block group is the smallest geographical unit for which the U.S.\n",
            "Census Bureau publishes sample data (a block group typically has a population\n",
            "of 600 to 3,000 people).\n",
            "\n",
            "A household is a group of people residing within a home. Since the average\n",
            "number of rooms and bedrooms in this dataset are provided per household, these\n",
            "columns may take surprisingly large values for block groups with few households\n",
            "and many empty houses, such as vacation resorts.\n",
            "\n",
            "It can be downloaded/loaded using the\n",
            ":func:`sklearn.datasets.fetch_california_housing` function.\n",
            "\n",
            ".. rubric:: References\n",
            "\n",
            "- Pace, R. Kelley and Ronald Barry, Sparse Spatial Autoregressions,\n",
            "  Statistics and Probability Letters, 33 (1997) 291-297\n",
            "\n"
          ]
        }
      ],
      "source": [
        "dataset = datasets.fetch_california_housing()\n",
        "# Dataset description\n",
        "print(dataset.DESCR)"
      ]
    },
    {
      "cell_type": "markdown",
      "metadata": {
        "id": "PCe1VNftevgE"
      },
      "source": [
        "Given below are the list of target values. These correspond to the house value derived considering all the 8 input features and are continuous values. We should use regression models to predict these values but we will start with a simple classification model for the sake of simplicity. We need to just round off the values to the nearest integer and use a classification model to predict the house value."
      ]
    },
    {
      "cell_type": "code",
      "execution_count": 18,
      "metadata": {
        "colab": {
          "base_uri": "https://localhost:8080/"
        },
        "id": "F8K0ggBOevgE",
        "outputId": "f57591c0-2672-47d7-fdcb-16e0a806061f"
      },
      "outputs": [
        {
          "output_type": "stream",
          "name": "stdout",
          "text": [
            "Orignal target values: [4.526 3.585 3.521 ... 0.923 0.847 0.894]\n",
            "Target values after conversion: [4 3 3 ... 0 0 0]\n",
            "Input variables shape: (20640, 8)\n",
            "Output variables shape: (20640,)\n"
          ]
        }
      ],
      "source": [
        "print(\"Orignal target values:\", dataset.target)\n",
        "\n",
        "dataset.target = dataset.target.astype(int)\n",
        "\n",
        "print(\"Target values after conversion:\", dataset.target)\n",
        "print(\"Input variables shape:\", dataset.data.shape)\n",
        "print(\"Output variables shape:\", dataset.target.shape)"
      ]
    },
    {
      "cell_type": "markdown",
      "metadata": {
        "id": "iNx4174W5xRg"
      },
      "source": [
        "The simplest model to use for classification is the K-Nearest Neighbors model. We will use this model to predict the house value with a K value of 1. We will also use the accuracy metric to evaluate the model."
      ]
    },
    {
      "cell_type": "code",
      "execution_count": 19,
      "metadata": {
        "id": "07zpydQj1hIQ"
      },
      "outputs": [],
      "source": [
        "def NN1(traindata, trainlabel, query):\n",
        "    \"\"\"\n",
        "    This function takes in the training data, training labels and a query point\n",
        "    and returns the predicted label for the query point using the nearest neighbour algorithm\n",
        "\n",
        "    traindata: numpy array of shape (n,d) where n is the number of samples and d is the number of features\n",
        "    trainlabel: numpy array of shape (n,) where n is the number of samples\n",
        "    query: numpy array of shape (d,) where d is the number of features\n",
        "\n",
        "    returns: the predicted label for the query point which is the label of the training data which is closest to the query point\n",
        "    \"\"\"\n",
        "    diff = (\n",
        "        traindata - query\n",
        "    )  # find the difference between features. Numpy automatically takes care of the size here\n",
        "    sq = diff * diff  # square the differences\n",
        "    dist = sq.sum(1)  # add up the squares\n",
        "    label = trainlabel[np.argmin(dist)]\n",
        "    return label\n",
        "\n",
        "\n",
        "def NN(traindata, trainlabel, testdata):\n",
        "    \"\"\"\n",
        "    This function takes in the training data, training labels and test data\n",
        "    and returns the predicted labels for the test data using the nearest neighbour algorithm\n",
        "\n",
        "    traindata: numpy array of shape (n,d) where n is the number of samples and d is the number of features\n",
        "    trainlabel: numpy array of shape (n,) where n is the number of samples\n",
        "    testdata: numpy array of shape (m,d) where m is the number of test samples and d is the number of features\n",
        "\n",
        "    returns: the predicted labels for the test data which is the label of the training data which is closest to each test point\n",
        "    \"\"\"\n",
        "    predlabel = np.array([NN1(traindata, trainlabel, i) for i in testdata])\n",
        "    return predlabel"
      ]
    },
    {
      "cell_type": "markdown",
      "metadata": {
        "id": "03JktkfIGaje"
      },
      "source": [
        "We will also define a 'random classifier', which randomly allots labels to each sample"
      ]
    },
    {
      "cell_type": "code",
      "execution_count": 20,
      "metadata": {
        "id": "fogWAtjyGhAH"
      },
      "outputs": [],
      "source": [
        "def RandomClassifier(traindata, trainlabel, testdata):\n",
        "    \"\"\"\n",
        "    This function takes in the training data, training labels and test data\n",
        "    and returns the predicted labels for the test data using the random classifier algorithm\n",
        "\n",
        "    In reality, we don't need these arguments but we are passing them to keep the function signature consistent with other classifiers\n",
        "\n",
        "    traindata: numpy array of shape (n,d) where n is the number of samples and d is the number of features\n",
        "    trainlabel: numpy array of shape (n,) where n is the number of samples\n",
        "    testdata: numpy array of shape (m,d) where m is the number of test samples and d is the number of features\n",
        "\n",
        "    returns: the predicted labels for the test data which is a random label from the training data\n",
        "    \"\"\"\n",
        "\n",
        "    classes = np.unique(trainlabel)\n",
        "    rints = rng.integers(low=0, high=len(classes), size=len(testdata))\n",
        "    predlabel = classes[rints]\n",
        "    return predlabel"
      ]
    },
    {
      "cell_type": "markdown",
      "metadata": {
        "id": "1Hjf1KHs7fU5"
      },
      "source": [
        "We need a metric to evaluate the performance of the model. Let us define a metric 'Accuracy' to see how good our learning algorithm is. Accuracy is the ratio of the number of correctly classified samples to the total number of samples. The higher the accuracy, the better the algorithm. We will use the accuracy metric to evaluate and compate the performance of the K-Nearest Neighbors model and the random classifier."
      ]
    },
    {
      "cell_type": "code",
      "execution_count": 21,
      "metadata": {
        "id": "ouuCqWU07bz-"
      },
      "outputs": [],
      "source": [
        "def Accuracy(gtlabel, predlabel):\n",
        "    \"\"\"\n",
        "    This function takes in the ground-truth labels and predicted labels\n",
        "    and returns the accuracy of the classifier\n",
        "\n",
        "    gtlabel: numpy array of shape (n,) where n is the number of samples\n",
        "    predlabel: numpy array of shape (n,) where n is the number of samples\n",
        "\n",
        "    returns: the accuracy of the classifier which is the number of correct predictions divided by the total number of predictions\n",
        "    \"\"\"\n",
        "    assert len(gtlabel) == len(\n",
        "        predlabel\n",
        "    ), \"Length of the ground-truth labels and predicted labels should be the same\"\n",
        "    correct = (\n",
        "        gtlabel == predlabel\n",
        "    ).sum()  # count the number of times the groundtruth label is equal to the predicted label.\n",
        "    return correct / len(gtlabel)"
      ]
    },
    {
      "cell_type": "markdown",
      "metadata": {
        "id": "4vJFwBFa9Klw"
      },
      "source": [
        "Let us make a function to split the dataset with the desired probability. We will use this function to split the dataset into training and testing sets. We will use the training set to train the model and the testing set to evaluate the model."
      ]
    },
    {
      "cell_type": "code",
      "execution_count": 22,
      "metadata": {
        "id": "Ko0VzpSM2Tdi"
      },
      "outputs": [],
      "source": [
        "def split(data, label, percent):\n",
        "    # generate a random number for each sample\n",
        "    rnd = rng.random(len(label))\n",
        "    split1 = rnd < percent\n",
        "    split2 = rnd >= percent\n",
        "\n",
        "    split1data = data[split1, :]\n",
        "    split1label = label[split1]\n",
        "    split2data = data[split2, :]\n",
        "    split2label = label[split2]\n",
        "    return split1data, split1label, split2data, split2label"
      ]
    },
    {
      "cell_type": "markdown",
      "metadata": {
        "id": "AcK3LEAJ_LGC"
      },
      "source": [
        "We will reserve 20% of our dataset as the test set. We will not change this portion throughout our experiments"
      ]
    },
    {
      "cell_type": "code",
      "execution_count": 23,
      "metadata": {
        "colab": {
          "base_uri": "https://localhost:8080/"
        },
        "id": "bBZkHBLJ1iU-",
        "outputId": "0e29519d-dde4-46db-c782-1dd94a03a4db"
      },
      "outputs": [
        {
          "output_type": "stream",
          "name": "stdout",
          "text": [
            "Number of test samples: 4144\n",
            "Number of train samples: 16496\n",
            "Percent of test data: 20.07751937984496 %\n"
          ]
        }
      ],
      "source": [
        "testdata, testlabel, alltraindata, alltrainlabel = split(\n",
        "    dataset.data, dataset.target, 20 / 100\n",
        ")\n",
        "print(\"Number of test samples:\", len(testlabel))\n",
        "print(\"Number of train samples:\", len(alltrainlabel))\n",
        "print(\"Percent of test data:\", len(testlabel) * 100 / len(dataset.target), \"%\")"
      ]
    },
    {
      "cell_type": "markdown",
      "metadata": {
        "id": "a6Ss0Z6IAGNV"
      },
      "source": [
        "## Experiments with splits\n",
        "\n",
        "Let us reserve some of our train data as a validation set"
      ]
    },
    {
      "cell_type": "code",
      "execution_count": 24,
      "metadata": {
        "id": "WFew2iry_7W7"
      },
      "outputs": [],
      "source": [
        "traindata, trainlabel, valdata, vallabel = split(\n",
        "    alltraindata, alltrainlabel, 75 / 100)"
      ]
    },
    {
      "cell_type": "markdown",
      "metadata": {
        "id": "60hiu4clFN1i"
      },
      "source": [
        "What is the accuracy of our classifiers on the train dataset?"
      ]
    },
    {
      "cell_type": "code",
      "execution_count": 25,
      "metadata": {
        "colab": {
          "base_uri": "https://localhost:8080/"
        },
        "id": "DBlZDTHUFTZx",
        "outputId": "6bcf3b8e-c30e-4b64-e43d-f593ab702528"
      },
      "outputs": [
        {
          "output_type": "stream",
          "name": "stdout",
          "text": [
            "Training accuracy using nearest neighbour algorithm: 100.0 %\n",
            "Training accuracy using random classifier:  16.4375808538163 %\n"
          ]
        }
      ],
      "source": [
        "trainpred = NN(traindata, trainlabel, traindata)\n",
        "trainAccuracy = Accuracy(trainlabel, trainpred)\n",
        "print(\"Training accuracy using nearest neighbour algorithm:\", trainAccuracy*100, \"%\")\n",
        "\n",
        "trainpred = RandomClassifier(traindata, trainlabel, traindata)\n",
        "trainAccuracy = Accuracy(trainlabel, trainpred)\n",
        "print(\"Training accuracy using random classifier: \", trainAccuracy*100, \"%\")"
      ]
    },
    {
      "cell_type": "markdown",
      "metadata": {
        "id": "7h08-9gJDtSy"
      },
      "source": [
        "For nearest neighbour, the train accuracy is always 1. The accuracy of the random classifier is close to 1/(number of classes) which is 0.1666 in our case. This is because the random classifier randomly assigns a label to each sample and the probability of assigning the correct label is 1/(number of classes). Let us predict the labels for our validation set and get the accuracy. This accuracy is a good estimate of the accuracy of our model on unseen data."
      ]
    },
    {
      "cell_type": "code",
      "execution_count": 26,
      "metadata": {
        "colab": {
          "base_uri": "https://localhost:8080/"
        },
        "id": "4h7bXoW_2H3v",
        "outputId": "3d097f67-813e-4a51-a3ed-b0344452dd3e"
      },
      "outputs": [
        {
          "output_type": "stream",
          "name": "stdout",
          "text": [
            "Validation accuracy using nearest neighbour algorithm: 34.10852713178294 %\n",
            "Validation accuracy using random classifier: 16.884689922480618 %\n"
          ]
        }
      ],
      "source": [
        "valpred = NN(traindata, trainlabel, valdata)\n",
        "valAccuracy = Accuracy(vallabel, valpred)\n",
        "print(\"Validation accuracy using nearest neighbour algorithm:\", valAccuracy*100, \"%\")\n",
        "\n",
        "\n",
        "valpred = RandomClassifier(traindata, trainlabel, valdata)\n",
        "valAccuracy = Accuracy(vallabel, valpred)\n",
        "print(\"Validation accuracy using random classifier:\", valAccuracy*100, \"%\")"
      ]
    },
    {
      "cell_type": "markdown",
      "metadata": {
        "id": "py9bLguFEjfg"
      },
      "source": [
        "Validation accuracy of nearest neighbour is considerably less than its train accuracy while the validation accuracy of random classifier is the same. However, the validation accuracy of nearest neighbour is twice that of the random classifier. Now let us try another random split and check the validation accuracy. We will see that the validation accuracy changes with the split. This is because the validation set is small and the accuracy is highly dependent on the samples in the validation set. We can get a better estimate of the accuracy by using cross-validation."
      ]
    },
    {
      "cell_type": "code",
      "execution_count": 27,
      "metadata": {
        "colab": {
          "base_uri": "https://localhost:8080/"
        },
        "id": "ujm3cyYzEntE",
        "outputId": "7b4ab07f-8651-4cf6-ace7-3560e095fede"
      },
      "outputs": [
        {
          "output_type": "stream",
          "name": "stdout",
          "text": [
            "Validation accuracy using nearest neighbour algorithm: 34.048257372654156 %\n"
          ]
        }
      ],
      "source": [
        "traindata, trainlabel, valdata, vallabel = split(\n",
        "    alltraindata, alltrainlabel, 75 / 100)\n",
        "valpred = NN(traindata, trainlabel, valdata)\n",
        "valAccuracy = Accuracy(vallabel, valpred)\n",
        "print(\"Validation accuracy using nearest neighbour algorithm:\", valAccuracy*100, \"%\")"
      ]
    },
    {
      "cell_type": "markdown",
      "metadata": {
        "id": "oSOx7U83EKie"
      },
      "source": [
        "You can run the above cell multiple times to try with different random splits.\n",
        "We notice that the accuracy is different for each run, but close together.\n",
        "\n",
        "Now let us compare it with the accuracy we get on the test dataset."
      ]
    },
    {
      "cell_type": "code",
      "execution_count": 28,
      "metadata": {
        "colab": {
          "base_uri": "https://localhost:8080/"
        },
        "id": "PNEZ5ToYBEDW",
        "outputId": "b4948492-c4b0-4711-911f-d3b681e309f9"
      },
      "outputs": [
        {
          "output_type": "stream",
          "name": "stdout",
          "text": [
            "Test accuracy: 34.91795366795367 %\n"
          ]
        }
      ],
      "source": [
        "testpred = NN(alltraindata, alltrainlabel, testdata)\n",
        "testAccuracy = Accuracy(testlabel, testpred)\n",
        "\n",
        "print(\"Test accuracy:\", testAccuracy*100, \"%\")"
      ]
    },
    {
      "cell_type": "markdown",
      "metadata": {
        "id": "w3dGD531K3gH"
      },
      "source": [
        "### Try it out for yourself and answer:\n",
        "1. How is the accuracy of the validation set affected if we increase the percentage of validation set? What happens when we reduce it?\n",
        "2. How does the size of the train and validation set affect how well we can predict the accuracy on the test set using the validation set?\n",
        "3. What do you think is a good percentage to reserve for the validation set so that thest two factors are balanced?\n",
        "\n",
        "Answer for both nearest neighbour and random classifier. You can note down the values for your experiments and plot a graph using  <a href=https://matplotlib.org/stable/gallery/lines_bars_and_markers/step_demo.html#sphx-glr-gallery-lines-bars-and-markers-step-demo-py>plt.plot<href>. Check also for extreme values for splits, like 99.9% or 0.1%"
      ]
    },
    {
      "cell_type": "markdown",
      "metadata": {
        "id": "M9zvdYY6evgI"
      },
      "source": [
        "> Exercise: Try to implement a 3 nearest neighbour classifier and compare the accuracy of the 1 nearest neighbour classifier and the 3 nearest neighbour classifier on the test dataset. You can use the KNeighborsClassifier class from the scikit-learn library to implement the K-Nearest Neighbors model. You can set the number of neighbors using the n_neighbors parameter. You can also use the accuracy_score function from the scikit-learn library to calculate the accuracy of the model."
      ]
    },
    {
      "cell_type": "markdown",
      "metadata": {
        "id": "PnYvkAZLQY7h"
      },
      "source": [
        "## Multiple Splits\n",
        "\n",
        "One way to get more accurate estimates for the test accuracy is by using <b>cross-validation</b>. Here, we will try a simple version, where we do multiple train/val splits and take the average of validation accuracies as the test accuracy estimation. Here is a function for doing this. Note that this function will take a long time to execute. You can reduce the number of splits to make it faster."
      ]
    },
    {
      "cell_type": "code",
      "execution_count": 29,
      "metadata": {
        "id": "E4nGCUQXBTzo"
      },
      "outputs": [],
      "source": [
        "def AverageAccuracy(alldata, alllabel, splitpercent, iterations, classifier=NN):\n",
        "    \"\"\"\n",
        "    This function takes in the data, labels, split percentage, number of iterations and classifier function\n",
        "    and returns the average accuracy of the classifier\n",
        "\n",
        "    alldata: numpy array of shape (n,d) where n is the number of samples and d is the number of features\n",
        "    alllabel: numpy array of shape (n,) where n is the number of samples\n",
        "    splitpercent: float which is the percentage of data to be used for training\n",
        "    iterations: int which is the number of iterations to run the classifier\n",
        "    classifier: function which is the classifier function to be used\n",
        "\n",
        "    returns: the average accuracy of the classifier\n",
        "    \"\"\"\n",
        "    accuracy = 0\n",
        "    for ii in range(iterations):\n",
        "        traindata, trainlabel, valdata, vallabel = split(\n",
        "            alldata, alllabel, splitpercent\n",
        "        )\n",
        "        valpred = classifier(traindata, trainlabel, valdata)\n",
        "        accuracy += Accuracy(vallabel, valpred)\n",
        "    return accuracy / iterations  # average of all accuracies"
      ]
    },
    {
      "cell_type": "code",
      "execution_count": null,
      "metadata": {
        "id": "H3qtNar7Bbik"
      },
      "outputs": [],
      "source": [
        "avg_acc = AverageAccuracy(alltraindata, alltrainlabel, 75 / 100, 10, classifier=NN)\n",
        "print(\"Average validation accuracy:\", avg_acc*100, \"%\")\n",
        "testpred = NN(alltraindata, alltrainlabel, testdata)\n",
        "\n",
        "print(\"Test accuracy:\", Accuracy(testlabel, testpred)*100, \"%\")"
      ]
    },
    {
      "cell_type": "markdown",
      "metadata": {
        "id": "33GIn4x5VH-d"
      },
      "source": [
        "This is a very simple way of doing cross-validation. There are many well-known algorithms for cross-validation, like k-fold cross-validation, leave-one-out etc. This will be covered in detail in a later module. For more information about cross-validation, check <a href=https://en.wikipedia.org/wiki/Cross-validation_(statistics)>Cross-validatioin (Wikipedia)</a>\n",
        "\n",
        "### Questions\n",
        "1. Does averaging the validation accuracy across multiple splits give more consistent results?\n",
        "\n",
        "Yes, averaging validation accuracy across multiple splits typically gives **more consistent and reliable results** compared to using a single validation split. This approach is part of **k-fold cross-validation**, a widely used method for model evaluation and selection. Here's why it works and how it helps:\n",
        "\n",
        "---\n",
        "\n",
        "### **1. Why Averaging Across Splits Helps**\n",
        "1. **Reduces Variance Due to Data Splits**:  \n",
        "   - A single train-test split might lead to biased results if the split happens to include an unrepresentative subset of the data (e.g., imbalanced classes or outliers).  \n",
        "   - Averaging across multiple splits ensures that the model's performance is evaluated on diverse subsets, reducing the likelihood of overfitting to specific data.\n",
        "\n",
        "2. **Improved Generalization Estimation**:  \n",
        "   - By training and validating on different folds, you mimic real-world scenarios where the model is tested on unseen data.\n",
        "   - The average accuracy is a better approximation of how the model will perform in general use cases.\n",
        "\n",
        "3. **Better Use of Data**:  \n",
        "   - k-fold cross-validation allows every data point to be used for both training and validation. This is especially beneficial when working with small datasets.\n",
        "\n",
        "4. **Mitigates Overfitting**:  \n",
        "   - A model evaluated on multiple folds is less likely to show artificially inflated accuracy caused by overfitting to a specific split.\n",
        "\n",
        "---\n",
        "\n",
        "### **2. How Averaging Works in k-Fold Cross-Validation**\n",
        "- In **k-fold cross-validation**:\n",
        "  1. The dataset is split into **k equal parts** (folds).\n",
        "  2. The model is trained on \\( k-1 \\) folds and validated on the remaining fold.\n",
        "  3. This process repeats \\( k \\) times, with each fold serving as the validation set once.\n",
        "  4. The **final validation accuracy** is the average of the accuracies across all \\( k \\) folds.\n",
        "\n",
        "---\n",
        "\n",
        "### **3. Benefits of Averaging**\n",
        "- **Consistency Across Splits**:\n",
        "  - Averaging smooths out variations in accuracy caused by random splits.\n",
        "  - If one split is \"easy\" or \"hard\" (e.g., it has a disproportionately high or low accuracy due to specific data points), its effect is mitigated by averaging.\n",
        "\n",
        "- **Statistical Robustness**:\n",
        "  - The average validation accuracy provides a more stable estimate, while individual fold accuracies give insight into variability.\n",
        "\n",
        "---\n",
        "\n",
        "### **4. Caveats and Considerations**\n",
        "1. **Bias-Variance Tradeoff**:  \n",
        "   - While k-fold reduces variance in accuracy estimation, the choice of \\( k \\) affects bias. A large \\( k \\) (e.g., \\( k = 10 \\)) typically offers a better balance.\n",
        "\n",
        "2. **Compute Cost**:  \n",
        "   - k-fold cross-validation is computationally intensive since the model is trained \\( k \\) times. This can be a concern for large datasets or complex models.\n",
        "\n",
        "3. **Data Leakage Risks**:  \n",
        "   - Ensure proper data splitting, especially when using techniques like stratified k-fold (preserving class distribution). Improper splits can lead to overestimation of accuracy.\n",
        "\n",
        "---\n",
        "\n",
        "### **5. When to Use Averaging**\n",
        "- **Small to Medium Datasets**: Cross-validation with averaging is especially helpful when data is limited. It helps ensure that the model's performance is not overly dependent on any single split.\n",
        "- **Hyperparameter Tuning**: Use the average validation accuracy to select the best set of hyperparameters.\n",
        "- **Comparing Models**: Averaged metrics offer a fairer basis for comparing multiple models or architectures.\n",
        "\n",
        "---\n",
        "\n",
        "### **6. Example: Averaging Validation Accuracy**\n",
        "For a k-fold setup with \\( k = 5 \\), validation accuracies might look like this:  \n",
        "\n",
        "| Fold  | Validation Accuracy (%) |\n",
        "|-------|--------------------------|\n",
        "| Fold 1| 82                       |\n",
        "| Fold 2| 85                       |\n",
        "| Fold 3| 83                       |\n",
        "| Fold 4| 84                       |\n",
        "| Fold 5| 81                       |\n",
        "\n",
        "**Average Accuracy** = \\( \\frac{82 + 85 + 83 + 84 + 81}{5} = 83% \\)\n",
        "\n",
        "The average provides a more reliable performance metric than relying on just one split.\n",
        "\n",
        "---\n",
        "\n",
        "Would you like help implementing cross-validation in code (e.g., Python using `scikit-learn`)?\n",
        "2. Does it give more accurate estimate of test accuracy?\n",
        "Yes, averaging validation accuracy across multiple splits (as done in **k-fold cross-validation**) generally provides a **more accurate estimate of test accuracy** than a single train-test split. Here's why this method is more reliable for estimating a model's performance on unseen data:\n",
        "\n",
        "---\n",
        "\n",
        "### **1. Reducing the Effect of Random Splits**\n",
        "- In a single train-test split, the training and test datasets are determined randomly. If this split is unbalanced (e.g., test data is harder, or key patterns are missing in the training data), the accuracy estimate might be misleading.\n",
        "- Averaging across multiple splits ensures the model is evaluated on different subsets of the data, reducing the influence of randomness. This leads to a performance estimate closer to the true generalization performance.\n",
        "\n",
        "---\n",
        "\n",
        "### **2. Accounting for Variability in the Data**\n",
        "- In practice, real-world data can be noisy or diverse, and a single split might not capture this variability.\n",
        "- Cross-validation exposes the model to different parts of the data during both training and validation, providing a broader evaluation of its ability to generalize to unseen data.\n",
        "\n",
        "---\n",
        "\n",
        "### **3. Balancing Bias and Variance**\n",
        "- **High variance** in a single train-test split can lead to over- or underestimation of test accuracy.\n",
        "- Cross-validation averages out these variations, leading to a **lower-variance estimate**.\n",
        "- However, if the number of folds (\\( k \\)) is too small (e.g., \\( k=2 \\)), the estimate might still be biased. Larger \\( k \\) (e.g., \\( k=10 \\)) reduces this bias while maintaining a good tradeoff with variance.\n",
        "\n",
        "---\n",
        "\n",
        "### **4. Comparison of Estimates**\n",
        "#### **Single Train-Test Split**\n",
        "- Test accuracy depends entirely on the specific split.\n",
        "- Example: If the split happens to include simpler examples in the test set, it may overestimate the model's true accuracy.\n",
        "\n",
        "#### **k-Fold Cross-Validation**\n",
        "- Each fold provides a unique test set, and the final averaged accuracy is typically closer to the model's true performance on unseen data.\n",
        "- Example: A 10-fold cross-validation provides 10 validation accuracies, each evaluated on 10% of the data.\n",
        "\n",
        "---\n",
        "\n",
        "### **5. Situations Where It Helps**\n",
        "1. **Small Datasets**:\n",
        "   - When data is limited, a single test set might not represent the full variability of the dataset.\n",
        "   - Cross-validation ensures every data point is used for both training and testing, maximizing information usage.\n",
        "\n",
        "2. **Hyperparameter Tuning**:\n",
        "   - A model tuned using a single split might overfit to that split.\n",
        "   - Cross-validation helps find parameters that generalize well across multiple subsets.\n",
        "\n",
        "3. **Model Selection**:\n",
        "   - Comparing models on a single split might favor one due to random chance.\n",
        "   - Cross-validation averages out these effects, providing a fair comparison.\n",
        "\n",
        "---\n",
        "\n",
        "### **6. Does It Always Improve Accuracy Estimates?**\n",
        "While cross-validation typically gives a more accurate estimate, it does not eliminate all sources of error:\n",
        "1. **Overfitting in Cross-Validation**:\n",
        "   - If the model is too complex for the data, it can overfit even with cross-validation.\n",
        "   - Use regularization or simpler models if cross-validated performance is still too optimistic compared to test performance.\n",
        "\n",
        "2. **Distributional Shifts**:\n",
        "   - Cross-validation assumes that the training and test data come from the same distribution. If the real test data is very different, even cross-validation might not provide an accurate estimate.\n",
        "\n",
        "---\n",
        "\n",
        "### **7. Final Estimate of Test Accuracy**\n",
        "- The **cross-validated accuracy** is often the closest approximation of the test accuracy if:\n",
        "  - The test data distribution matches the training data.\n",
        "  - Cross-validation is done properly (e.g., stratified splits for imbalanced classes).\n",
        "- However, for the most reliable performance assessment, always reserve a **final, unseen test set** for evaluation after cross-validation. This ensures that the cross-validation process itself hasn’t influenced the test accuracy.\n",
        "\n",
        "---\n",
        "\n",
        "Would you like an example or code snippet to demonstrate this?\n",
        "\n",
        "\n",
        "3. Yes, averaging validation accuracy across multiple splits (as done in **k-fold cross-validation**) generally provides a **more accurate estimate of test accuracy** than a single train-test split. Here's why this method is more reliable for estimating a model's performance on unseen data:\n",
        "\n",
        "---\n",
        "\n",
        "\n",
        "\n",
        "\n",
        "4. Consider the results you got for the previous questions. Can we deal with a very small train dataset or validation dataset by increasing the iterations?\n",
        "\n",
        "If you have a **very small training or validation dataset**, increasing the number of iterations (e.g., epochs in deep learning or training cycles in general) is not a direct solution to the problem. While increasing iterations can help the model learn more effectively from the limited data, it introduces potential risks, such as **overfitting**, because the model might memorize the small dataset instead of generalizing well. Here’s a detailed analysis:\n",
        "\n",
        "---\n",
        "\n",
        "### **Key Factors to Consider**\n",
        "1. **Small Training Dataset**:\n",
        "   - If your training dataset is small, the model has limited information to learn patterns that generalize to new data.\n",
        "   - Simply increasing the number of iterations can make the model overly fit the training data, leading to poor performance on unseen data.\n",
        "\n",
        "2. **Small Validation Dataset**:\n",
        "   - A small validation dataset means your estimate of model performance will have **high variance**, as the validation results depend on a small, potentially unrepresentative sample.\n",
        "   - Cross-validation can help here (e.g., k-fold cross-validation) by making better use of limited data for validation.\n",
        "\n",
        "---\n",
        "\n",
        "### **Does Increasing Iterations Help?**\n",
        "Increasing iterations might improve the model **to an extent**, but it’s not a complete solution for small datasets. Here’s why:\n",
        "\n",
        "#### **When It Might Help**:\n",
        "1. **Underfitting**: If the model hasn’t fully captured patterns in the data, increasing iterations can help it converge.\n",
        "2. **Small, Well-Represented Data**: If your dataset, though small, is representative of the problem space, more iterations can allow the model to extract the maximum information.\n",
        "\n",
        "#### **When It Fails**:\n",
        "1. **Overfitting**: More iterations can lead to the model memorizing the training data instead of generalizing patterns. This results in a gap between training and validation accuracy.\n",
        "2. **Noise Sensitivity**: With small datasets, the model might overfit to noise or irrelevant patterns in the data.\n",
        "\n",
        "---\n",
        "\n",
        "### **Strategies to Deal with Small Datasets**\n",
        "Instead of relying solely on increasing iterations, you can apply the following techniques to better utilize small datasets:\n",
        "\n",
        "#### **1. Data Augmentation**\n",
        "   - **What It Is**: Generate new training examples by applying transformations to existing data (e.g., rotations, flips, noise addition).\n",
        "   - **Why It Helps**: Augmentation increases the effective size of the dataset and introduces variability, reducing overfitting.\n",
        "   - **Examples**:\n",
        "     - For images: Rotate, flip, crop, adjust brightness.\n",
        "     - For text: Synonym replacement, paraphrasing.\n",
        "     - For time-series: Add noise, stretch/compress signals.\n",
        "\n",
        "#### **2. Regularization**\n",
        "   - **What It Is**: Add penalties to the model to prevent it from becoming too complex (e.g., L1/L2 regularization, dropout in neural networks).\n",
        "   - **Why It Helps**: Regularization discourages overfitting to the small dataset.\n",
        "\n",
        "#### **3. Transfer Learning**\n",
        "   - **What It Is**: Use a pre-trained model on a related problem, and fine-tune it on your small dataset.\n",
        "   - **Why It Helps**: Pre-trained models already capture useful features, reducing the need for large training datasets.\n",
        "\n",
        "#### **4. Cross-Validation**\n",
        "   - **What It Is**: Use k-fold cross-validation to maximize the use of available data for training and validation.\n",
        "   - **Why It Helps**: This reduces variance in validation results and gives a better estimate of model performance.\n",
        "\n",
        "#### **5. Early Stopping**\n",
        "   - **What It Is**: Monitor the validation loss during training and stop training when it stops improving.\n",
        "   - **Why It Helps**: Prevents overfitting by halting training once the model has extracted the most relevant patterns.\n",
        "\n",
        "#### **6. Synthetic Data Generation**\n",
        "   - **What It Is**: Create synthetic samples using techniques like SMOTE (Synthetic Minority Oversampling Technique) for tabular data or GANs (Generative Adversarial Networks) for images.\n",
        "   - **Why It Helps**: Provides additional data for training, improving generalization.\n",
        "\n",
        "#### **7. Use Simpler Models**\n",
        "   - **What It Is**: Use models with fewer parameters or simpler architectures.\n",
        "   - **Why It Helps**: Complex models require more data to avoid overfitting.\n",
        "\n",
        "---\n",
        "\n",
        "### **Increasing Iterations in Context**\n",
        "Increasing iterations can be beneficial **only when combined with techniques like regularization or data augmentation**. Here's a scenario where it works:\n",
        "- **With Regularization**: If you're applying L2 regularization, increasing iterations can allow the model to explore the data thoroughly without overfitting.\n",
        "- **With Augmentation**: Increasing iterations gives the model time to see all augmented variations of the data.\n",
        "\n",
        "---\n",
        "\n",
        "### **Practical Example**\n",
        "Consider training a neural network with a small dataset of 1,000 samples:\n",
        "1. **Without Augmentation**:\n",
        "   - Training for 100 epochs might cause overfitting after the 20th epoch.\n",
        "   - Increasing iterations to 200 would worsen generalization.\n",
        "\n",
        "2. **With Augmentation**:\n",
        "   - Adding noise, rotations, and scaling increases the effective dataset size to 10,000 samples.\n",
        "   - Training for 100-200 epochs allows the model to learn from a richer data distribution.\n",
        "\n",
        "---\n",
        "\n",
        "### **Conclusion**\n",
        "Increasing iterations can help to some extent, but by itself, it is not a complete solution for small datasets. Instead:\n",
        "- Use **data augmentation**, **regularization**, or **transfer learning** to address the root problem.\n",
        "- Combine these with **early stopping** to prevent overfitting during longer training.\n",
        "\n",
        "Would you like help with implementing any of these strategies in practice?"
      ]
    },
    {
      "cell_type": "markdown",
      "metadata": {
        "id": "z-SBxy1qevgJ"
      },
      "source": [
        "> Exercise: How does the accuracy of the 3 nearest neighbour classifier change with the number of splits? How is it affected by the split size? Compare the results with the 1 nearest neighbour classifier."
      ]
    }
  ],
  "metadata": {
    "colab": {
      "provenance": [],
      "include_colab_link": true
    },
    "kernelspec": {
      "display_name": "Python 3",
      "name": "python3"
    },
    "language_info": {
      "codemirror_mode": {
        "name": "ipython",
        "version": 3
      },
      "file_extension": ".py",
      "mimetype": "text/x-python",
      "name": "python",
      "nbconvert_exporter": "python",
      "pygments_lexer": "ipython3",
      "version": "3.10.10"
    }
  },
  "nbformat": 4,
  "nbformat_minor": 0
}